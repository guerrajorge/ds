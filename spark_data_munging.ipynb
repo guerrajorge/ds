{
 "cells": [
  {
   "cell_type": "code",
   "execution_count": 1,
   "metadata": {},
   "outputs": [],
   "source": [
    "from pyspark.sql import SparkSession\n",
    "import re\n",
    "from pyspark.sql import Row"
   ]
  },
  {
   "cell_type": "code",
   "execution_count": 2,
   "metadata": {},
   "outputs": [],
   "source": [
    "spark = SparkSession.builder.getOrCreate()"
   ]
  },
  {
   "cell_type": "code",
   "execution_count": 5,
   "metadata": {},
   "outputs": [],
   "source": [
    "df = spark.read.load(\"samples/samples.json\", format='json')"
   ]
  },
  {
   "cell_type": "code",
   "execution_count": 6,
   "metadata": {},
   "outputs": [
    {
     "name": "stdout",
     "output_type": "stream",
     "text": [
      "datatype columns\n",
      "root\n",
      " |-- feature_1: double (nullable = true)\n",
      " |-- feature_2: string (nullable = true)\n",
      " |-- feature_3: double (nullable = true)\n",
      " |-- feature_4: double (nullable = true)\n",
      " |-- feature_5: double (nullable = true)\n",
      " |-- feature_6: long (nullable = true)\n",
      " |-- feature_7: double (nullable = true)\n",
      " |-- feature_8: double (nullable = true)\n",
      " |-- user_id: string (nullable = true)\n",
      "\n",
      "first 5 observations\n",
      "+-----------------+---------+------------------+------------------+--------------------+---------+------------------+--------------------+--------------------+\n",
      "|        feature_1|feature_2|         feature_3|         feature_4|           feature_5|feature_6|         feature_7|           feature_8|             user_id|\n",
      "+-----------------+---------+------------------+------------------+--------------------+---------+------------------+--------------------+--------------------+\n",
      "|3.436424754118279|        C|-4.937046093832398| 33.47386765484094|   9042.470622894587|        4| 9.322449813398302| 0.04129206513750725|b5a1fa98242d4323a...|\n",
      "|6.332699497086378|        B| 3.764514965626848|22.008889234859627| 0.06305210074935662|        4|6.2058119193783225|0.003881591070646...|89edd08ff30b454fa...|\n",
      "|7.967237261134784|        A|0.6973263881024137|28.058075306464588|   55.86068556762361|        1| 5.007276038919032|  0.1973977761904638|fc6d8a952bfd489da...|\n",
      "|4.774479337275821|        A|-2.106129189393792|26.316815112855043|0.001087211343702...|        4|4.7929596887722345|5.449533573572634E-4|bd2d492dd52e4c4db...|\n",
      "|4.159423329702401|        B|-6.121677208871895| 18.00324084391378|  2134.9463413203953|        2|2.1194933706918926|   60.83890689388724|97fb36632f774a41a...|\n",
      "+-----------------+---------+------------------+------------------+--------------------+---------+------------------+--------------------+--------------------+\n",
      "only showing top 5 rows\n",
      "\n"
     ]
    }
   ],
   "source": [
    "print('datatype columns')\n",
    "df.printSchema()\n",
    "\n",
    "print('first 5 observations')\n",
    "df.show(5, truncate=True)"
   ]
  },
  {
   "cell_type": "code",
   "execution_count": 8,
   "metadata": {},
   "outputs": [],
   "source": [
    "# create sparkContext object\n",
    "sc = spark.sparkContext\n",
    "# read the file\n",
    "rdd = sc.textFile(\"samples/samples.custom\")\n",
    "# split each line and obtain 3 columns: user_id, feature_9 and feature_10\n",
    "rdd = rdd.map(lambda line: re.split(\"user_id=|feature_9=|feature_10=\", line)[1:])\n",
    "# convert rdd to dataframe\n",
    "feat_9_10_df = rdd.map(lambda line: Row(user_id=line[0], feature_9=line[1], feature_10=line[2])).toDF()"
   ]
  },
  {
   "cell_type": "code",
   "execution_count": 10,
   "metadata": {},
   "outputs": [],
   "source": [
    "# create sparkContext object\n",
    "sc = spark.sparkContext\n",
    "# read the file\n",
    "rdd = sc.textFile(\"samples/samples.tsv\")\n",
    "# split each line and obtain user_id and labels\n",
    "label_rdd = rdd.map(lambda line: line.split(\"\\t\"))\n",
    "# convert label_rdd to df\n",
    "label_df = label_rdd.map(lambda line: Row(user_name=line[0], label=line[1])).toDF()"
   ]
  },
  {
   "cell_type": "code",
   "execution_count": 82,
   "metadata": {},
   "outputs": [
    {
     "name": "stdout",
     "output_type": "stream",
     "text": [
      "df schema\n",
      "root\n",
      " |-- feature_1: double (nullable = true)\n",
      " |-- feature_2: string (nullable = true)\n",
      " |-- feature_3: double (nullable = true)\n",
      " |-- feature_4: double (nullable = true)\n",
      " |-- feature_5: double (nullable = true)\n",
      " |-- feature_6: long (nullable = true)\n",
      " |-- feature_7: double (nullable = true)\n",
      " |-- feature_8: double (nullable = true)\n",
      " |-- user_id: string (nullable = true)\n",
      "\n",
      "df schema after merge\n",
      "root\n",
      " |-- user_id: string (nullable = true)\n",
      " |-- feature_1: double (nullable = true)\n",
      " |-- feature_2: string (nullable = true)\n",
      " |-- feature_3: double (nullable = true)\n",
      " |-- feature_4: double (nullable = true)\n",
      " |-- feature_5: double (nullable = true)\n",
      " |-- feature_6: long (nullable = true)\n",
      " |-- feature_7: double (nullable = true)\n",
      " |-- feature_8: double (nullable = true)\n",
      " |-- feature_10: string (nullable = true)\n",
      " |-- feature_9: string (nullable = true)\n",
      "\n",
      "first 5 observations\n",
      "+--------------------+------------------+---------+-------------------+------------------+--------------------+---------+------------------+--------------------+-------------+-------------+\n",
      "|             user_id|         feature_1|feature_2|          feature_3|         feature_4|           feature_5|feature_6|         feature_7|           feature_8|   feature_10|    feature_9|\n",
      "+--------------------+------------------+---------+-------------------+------------------+--------------------+---------+------------------+--------------------+-------------+-------------+\n",
      "|01455652602a484a8...| 4.715871659544858|        A| 3.5021809373030983| 32.88840774007288|   8.952656097142327|        4| 2.698544314264769| 0.22873480231576845|2.28207348098| 7.8197313164|\n",
      "|0216c085a51c41cf9...| 5.951645095271299|        C|  7.048973405322175|19.012885671775678|   9.940847863128075|        3|2.7216741508336195|0.012881106141914638| 0.7447299009|1.12305448341|\n",
      "|03d40e04fc4a4ebe8...| 9.655947799271594|        A| 1.2971002490324055| 28.48786194387764|    97.3331806461819|        1|0.7977057768673868|   787.8875977934683|-1.1654026359|6.16870529903|\n",
      "|0451a0b57c5641318...| 9.887574121281098|        A| 0.4025395362584333|19.313646267031938|   85.82772685234367|        1|4.3813833780142994|1.075407103381681...| 3.1271800705|4.64301664974|\n",
      "|0476aae1f2fb4db7a...|0.8284041257361174|        A|-0.5755579763117987| 34.68576850415671|1.797177769256710...|        2| 9.379781308807985|6.433788529861734E-6|9.00227809577|1.74564592178|\n",
      "+--------------------+------------------+---------+-------------------+------------------+--------------------+---------+------------------+--------------------+-------------+-------------+\n",
      "only showing top 5 rows\n",
      "\n"
     ]
    }
   ],
   "source": [
    "print('df schema')\n",
    "df.printSchema()\n",
    "# print('number of cols = {0}, rows={1}'.format(len(df.columns), df.count()))\n",
    "# merge df with the rest of the features df based on user_id\n",
    "dataset = df.join(feat_9_10_df,['user_id'],'inner')\n",
    "print('df schema after merge')\n",
    "df.printSchema()\n",
    "# sanity check\n",
    "# print('number of cols = {0}, rows={1}'.format(len(df.columns), df.count()))\n",
    "\n",
    "print('first 5 observations')\n",
    "df.show(5, truncate=True)"
   ]
  },
  {
   "cell_type": "code",
   "execution_count": null,
   "metadata": {},
   "outputs": [],
   "source": []
  }
 ],
 "metadata": {
  "kernelspec": {
   "display_name": "Python 3",
   "language": "python",
   "name": "python3"
  },
  "language_info": {
   "codemirror_mode": {
    "name": "ipython",
    "version": 3
   },
   "file_extension": ".py",
   "mimetype": "text/x-python",
   "name": "python",
   "nbconvert_exporter": "python",
   "pygments_lexer": "ipython3",
   "version": "3.7.3"
  }
 },
 "nbformat": 4,
 "nbformat_minor": 2
}
